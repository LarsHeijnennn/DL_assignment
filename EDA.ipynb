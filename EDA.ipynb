{
 "cells": [
  {
   "cell_type": "code",
   "execution_count": 1,
   "metadata": {},
   "outputs": [
    {
     "name": "stdout",
     "output_type": "stream",
     "text": [
      "Requirement already satisfied: librosa in ./.venv/lib/python3.11/site-packages (0.11.0)\n",
      "Requirement already satisfied: matplotlib in ./.venv/lib/python3.11/site-packages (3.10.3)\n",
      "Requirement already satisfied: mutagen in ./.venv/lib/python3.11/site-packages (1.47.0)\n",
      "Requirement already satisfied: pandas in ./.venv/lib/python3.11/site-packages (2.2.3)\n",
      "Requirement already satisfied: torch in ./.venv/lib/python3.11/site-packages (2.7.0)\n",
      "Requirement already satisfied: audioread>=2.1.9 in ./.venv/lib/python3.11/site-packages (from librosa) (3.0.1)\n",
      "Requirement already satisfied: numba>=0.51.0 in ./.venv/lib/python3.11/site-packages (from librosa) (0.61.2)\n",
      "Requirement already satisfied: numpy>=1.22.3 in ./.venv/lib/python3.11/site-packages (from librosa) (2.2.6)\n",
      "Requirement already satisfied: scipy>=1.6.0 in ./.venv/lib/python3.11/site-packages (from librosa) (1.15.3)\n",
      "Requirement already satisfied: scikit-learn>=1.1.0 in ./.venv/lib/python3.11/site-packages (from librosa) (1.6.1)\n",
      "Requirement already satisfied: joblib>=1.0 in ./.venv/lib/python3.11/site-packages (from librosa) (1.5.0)\n",
      "Requirement already satisfied: decorator>=4.3.0 in ./.venv/lib/python3.11/site-packages (from librosa) (5.2.1)\n",
      "Requirement already satisfied: soundfile>=0.12.1 in ./.venv/lib/python3.11/site-packages (from librosa) (0.13.1)\n",
      "Requirement already satisfied: pooch>=1.1 in ./.venv/lib/python3.11/site-packages (from librosa) (1.8.2)\n",
      "Requirement already satisfied: soxr>=0.3.2 in ./.venv/lib/python3.11/site-packages (from librosa) (0.5.0.post1)\n",
      "Requirement already satisfied: typing_extensions>=4.1.1 in ./.venv/lib/python3.11/site-packages (from librosa) (4.13.2)\n",
      "Requirement already satisfied: lazy_loader>=0.1 in ./.venv/lib/python3.11/site-packages (from librosa) (0.4)\n",
      "Requirement already satisfied: msgpack>=1.0 in ./.venv/lib/python3.11/site-packages (from librosa) (1.1.0)\n",
      "Requirement already satisfied: contourpy>=1.0.1 in ./.venv/lib/python3.11/site-packages (from matplotlib) (1.3.2)\n",
      "Requirement already satisfied: cycler>=0.10 in ./.venv/lib/python3.11/site-packages (from matplotlib) (0.12.1)\n",
      "Requirement already satisfied: fonttools>=4.22.0 in ./.venv/lib/python3.11/site-packages (from matplotlib) (4.58.0)\n",
      "Requirement already satisfied: kiwisolver>=1.3.1 in ./.venv/lib/python3.11/site-packages (from matplotlib) (1.4.8)\n",
      "Requirement already satisfied: packaging>=20.0 in ./.venv/lib/python3.11/site-packages (from matplotlib) (25.0)\n",
      "Requirement already satisfied: pillow>=8 in ./.venv/lib/python3.11/site-packages (from matplotlib) (11.2.1)\n",
      "Requirement already satisfied: pyparsing>=2.3.1 in ./.venv/lib/python3.11/site-packages (from matplotlib) (3.2.3)\n",
      "Requirement already satisfied: python-dateutil>=2.7 in ./.venv/lib/python3.11/site-packages (from matplotlib) (2.9.0.post0)\n",
      "Requirement already satisfied: pytz>=2020.1 in ./.venv/lib/python3.11/site-packages (from pandas) (2025.2)\n",
      "Requirement already satisfied: tzdata>=2022.7 in ./.venv/lib/python3.11/site-packages (from pandas) (2025.2)\n",
      "Requirement already satisfied: filelock in ./.venv/lib/python3.11/site-packages (from torch) (3.18.0)\n",
      "Requirement already satisfied: sympy>=1.13.3 in ./.venv/lib/python3.11/site-packages (from torch) (1.14.0)\n",
      "Requirement already satisfied: networkx in ./.venv/lib/python3.11/site-packages (from torch) (3.4.2)\n",
      "Requirement already satisfied: jinja2 in ./.venv/lib/python3.11/site-packages (from torch) (3.1.6)\n",
      "Requirement already satisfied: fsspec in ./.venv/lib/python3.11/site-packages (from torch) (2025.3.2)\n",
      "Requirement already satisfied: llvmlite<0.45,>=0.44.0dev0 in ./.venv/lib/python3.11/site-packages (from numba>=0.51.0->librosa) (0.44.0)\n",
      "Requirement already satisfied: platformdirs>=2.5.0 in ./.venv/lib/python3.11/site-packages (from pooch>=1.1->librosa) (4.3.8)\n",
      "Requirement already satisfied: requests>=2.19.0 in ./.venv/lib/python3.11/site-packages (from pooch>=1.1->librosa) (2.32.3)\n",
      "Requirement already satisfied: six>=1.5 in ./.venv/lib/python3.11/site-packages (from python-dateutil>=2.7->matplotlib) (1.17.0)\n",
      "Requirement already satisfied: charset-normalizer<4,>=2 in ./.venv/lib/python3.11/site-packages (from requests>=2.19.0->pooch>=1.1->librosa) (3.4.2)\n",
      "Requirement already satisfied: idna<4,>=2.5 in ./.venv/lib/python3.11/site-packages (from requests>=2.19.0->pooch>=1.1->librosa) (3.10)\n",
      "Requirement already satisfied: urllib3<3,>=1.21.1 in ./.venv/lib/python3.11/site-packages (from requests>=2.19.0->pooch>=1.1->librosa) (2.4.0)\n",
      "Requirement already satisfied: certifi>=2017.4.17 in ./.venv/lib/python3.11/site-packages (from requests>=2.19.0->pooch>=1.1->librosa) (2025.4.26)\n",
      "Requirement already satisfied: threadpoolctl>=3.1.0 in ./.venv/lib/python3.11/site-packages (from scikit-learn>=1.1.0->librosa) (3.6.0)\n",
      "Requirement already satisfied: cffi>=1.0 in ./.venv/lib/python3.11/site-packages (from soundfile>=0.12.1->librosa) (1.17.1)\n",
      "Requirement already satisfied: pycparser in ./.venv/lib/python3.11/site-packages (from cffi>=1.0->soundfile>=0.12.1->librosa) (2.22)\n",
      "Requirement already satisfied: mpmath<1.4,>=1.1.0 in ./.venv/lib/python3.11/site-packages (from sympy>=1.13.3->torch) (1.3.0)\n",
      "Requirement already satisfied: MarkupSafe>=2.0 in ./.venv/lib/python3.11/site-packages (from jinja2->torch) (3.0.2)\n"
     ]
    }
   ],
   "source": [
    "!pip install librosa matplotlib mutagen pandas torch\n",
    "\n",
    "import librosa\n",
    "import librosa.display\n",
    "import matplotlib.pyplot as plt\n",
    "import numpy as np\n",
    "import pandas as pd\n",
    "import torch\n",
    "import torch.nn as nn\n",
    "import torch.nn.functional as F\n",
    "import torch.optim as optim\n",
    "from torch.utils.data import DataLoader\n",
    "from torch.nn.utils.rnn import pad_sequence, pack_padded_sequence, pad_packed_sequence\n",
    "from sklearn.model_selection import train_test_split"
   ]
  },
  {
   "cell_type": "code",
   "execution_count": 2,
   "metadata": {},
   "outputs": [],
   "source": [
    "import os\n",
    "import librosa\n",
    "\n",
    "train_folder = 'train'\n",
    "for f in os.listdir(train_folder):\n",
    "    if f.endswith('.wav'):\n",
    "        path = os.path.join(train_folder, f)\n",
    "        y, sr = librosa.load(path, sr=None)  # Load with original sample rate\n",
    "        if sr != 16000:\n",
    "            print(f\"{f} has sample rate {sr}\")\n",
    "\n",
    "# Nothings gets printed, so all files are 16000 Hz"
   ]
  },
  {
   "cell_type": "code",
   "execution_count": 3,
   "metadata": {},
   "outputs": [
    {
     "name": "stdout",
     "output_type": "stream",
     "text": [
      "Number of .wav files in train folder: 3166\n",
      "Average duration: 5.26 seconds\n",
      "Total unique speakers: 10\n",
      "Male speakers: 5\n",
      "Female speakers: 5\n",
      "\n",
      "Male speaker IDs: ['1m', '2m', '3m', '4m', '5m']\n",
      "Female speaker IDs: ['1f', '2f', '3f', '4f', '5f']\n"
     ]
    }
   ],
   "source": [
    "import os\n",
    "import librosa\n",
    "\n",
    "train_folder = 'train'\n",
    "train_wav_files = [f for f in os.listdir(train_folder) if f.endswith('.wav')]\n",
    "print(f\"Number of .wav files in train folder: {len(train_wav_files)}\")\n",
    "\n",
    "total_duration = 0\n",
    "for f in train_wav_files:\n",
    "    y, sr = librosa.load(os.path.join(train_folder, f), sr=None)\n",
    "    duration = librosa.get_duration(y=y, sr=sr)\n",
    "    total_duration += duration\n",
    "\n",
    "avg_duration = total_duration / len(train_wav_files)\n",
    "print(f\"Average duration: {avg_duration:.2f} seconds\")\n",
    "\n",
    "speaker_ids = {filename.split('_')[0] for filename in train_wav_files}\n",
    "male_speakers = [s for s in speaker_ids if s.endswith('m')]\n",
    "female_speakers = [s for s in speaker_ids if s.endswith('f')]\n",
    "\n",
    "print(f\"Total unique speakers: {len(speaker_ids)}\")\n",
    "print(f\"Male speakers: {len(male_speakers)}\")\n",
    "print(f\"Female speakers: {len(female_speakers)}\")\n",
    "print(\"\\nMale speaker IDs:\", sorted(male_speakers))\n",
    "print(\"Female speaker IDs:\", sorted(female_speakers))\n"
   ]
  },
  {
   "cell_type": "code",
   "execution_count": 4,
   "metadata": {},
   "outputs": [
    {
     "name": "stdout",
     "output_type": "stream",
     "text": [
      "Minimum duration: 1.67 seconds\n",
      "Maximum duration: 12.97 seconds\n",
      "Standard deviation: 1.74 seconds\n"
     ]
    },
    {
     "data": {
      "image/png": "[encoded data removed]",
      "text/plain": [
       "<Figure size 1000x400 with 1 Axes>"
      ]
     },
     "metadata": {},
     "output_type": "display_data"
    }
   ],
   "source": [
    "durations = []\n",
    "for f in train_wav_files:\n",
    "    y, sr = librosa.load(os.path.join(train_folder, f), sr=None)\n",
    "    duration = librosa.get_duration(y=y, sr=sr)\n",
    "    durations.append(duration)\n",
    "\n",
    "min_duration = min(durations)\n",
    "max_duration = max(durations)\n",
    "std_duration = np.std(durations)\n",
    "\n",
    "print(f\"Minimum duration: {min_duration:.2f} seconds\")\n",
    "print(f\"Maximum duration: {max_duration:.2f} seconds\")\n",
    "print(f\"Standard deviation: {std_duration:.2f} seconds\")\n",
    "\n",
    "plt.figure(figsize=(10, 4))\n",
    "plt.hist(durations, bins=30)\n",
    "plt.title('Distribution of Audio Durations')\n",
    "plt.xlabel('Duration (seconds)')\n",
    "plt.ylabel('Count')\n",
    "plt.show()\n"
   ]
  },
  {
   "cell_type": "code",
   "execution_count": null,
   "metadata": {},
   "outputs": [],
   "source": [
    "import wave  # Import the wave module for WAV file handling\n",
    "with wave.open('Test set/3599.wav', 'rb') as wav:  # Open WAV file in read-binary mode\n",
    "    print(f\"Channels: {wav.getnchannels()}\")  # Print number of audio channels\n",
    "    print(f\"Sample width: {wav.getsampwidth()}\")  # Print sample width in bytes - This shows how many bytes are used to store each audio sample (e.g., 2 bytes = 16-bit audio)\n",
    "    print(f\"Frame rate: {wav.getframerate()}\")  # Print sampling frequency\n",
    "    print(f\"Frames: {wav.getnframes()}\")  # Print total number of frames\n",
    "    print(f\"Parameters: {wav.getparams()}\")  # Print all WAV file parameters\n",
    "\n",
    "\n",
    "\n",
    "# The accent is encoded in the first character of the file name with a single number from 1 to 5. The gender is encoded as a single letter (’m’ or ’f’) corresponding to the second character of the file name.\". "
   ]
  },
  {
   "cell_type": "code",
   "execution_count": null,
   "metadata": {},
   "outputs": [],
   "source": [
    "from mutagen.wave import WAVE\n",
    "\n",
    "audio = WAVE('Test set/3599.wav')\n",
    "print(audio.tags)  # print None if there are no tags"
   ]
  },
  {
   "cell_type": "code",
   "execution_count": null,
   "metadata": {},
   "outputs": [],
   "source": [
    "# Create a list to store our dataset information\n",
    "dataset_manifest = []\n",
    "\n",
    "for file_path in train_wav_files:\n",
    "    # Extract filename without extension\n",
    "    filename = os.path.basename(file_path).split('.')[0]\n",
    "    \n",
    "    # Extract accent (first character) and convert to 0-based index\n",
    "    accent = int(filename[0]) - 1  # Convert 1-5 to 0-4\n",
    "    \n",
    "    # Extract gender (second character)\n",
    "    gender = filename[1]\n",
    "    \n",
    "    # Create dictionary with file information\n",
    "    file_info = {\n",
    "        'file_path': file_path,\n",
    "        'accent': accent,\n",
    "        'gender': gender\n",
    "    }\n",
    "    \n",
    "    dataset_manifest.append(file_info)\n",
    "\n",
    "# Convert to DataFrame for easier manipulation\n",
    "df_manifest = pd.DataFrame(dataset_manifest)\n",
    "\n",
    "# Display first few rows and basic statistics\n",
    "print(\"Dataset Manifest Preview:\")\n",
    "print(df_manifest.head())\n",
    "print(\"\\nDataset Statistics:\")\n",
    "print(f\"Total files: {len(df_manifest)}\")\n",
    "print(\"\\nAccent distribution:\")\n",
    "print(df_manifest['accent'].value_counts().sort_index())\n",
    "print(\"\\nGender distribution:\")\n",
    "print(df_manifest['gender'].value_counts())\n"
   ]
  }
 ],
 "metadata": {
  "kernelspec": {
   "display_name": ".venv",
   "language": "python",
   "name": "python3"
  },
  "language_info": {
   "codemirror_mode": {
    "name": "ipython",
    "version": 3
   },
   "file_extension": ".py",
   "mimetype": "text/x-python",
   "name": "python",
   "nbconvert_exporter": "python",
   "pygments_lexer": "ipython3",
   "version": "3.11.11"
  }
 },
 "nbformat": 4,
 "nbformat_minor": 2
}
