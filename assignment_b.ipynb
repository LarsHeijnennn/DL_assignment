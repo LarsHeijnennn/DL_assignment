{
 "cells": [
  {
   "cell_type": "markdown",
   "metadata": {},
   "source": [
    "## Approach B"
   ]
  },
  {
   "cell_type": "code",
   "execution_count": 5,
   "metadata": {},
   "outputs": [
    {
     "name": "stdout",
     "output_type": "stream",
     "text": [
      "                                 file_path  \\\n",
      "0  /Users/larsheijnen/DL/Train/2m_9039.wav   \n",
      "1  /Users/larsheijnen/DL/Train/4f_1887.wav   \n",
      "2  /Users/larsheijnen/DL/Train/4f_9571.wav   \n",
      "3  /Users/larsheijnen/DL/Train/1m_3736.wav   \n",
      "4  /Users/larsheijnen/DL/Train/1m_3078.wav   \n",
      "\n",
      "                                            waveform  accent gender  \n",
      "0  [[[tensor(8.2519e-05), tensor(2.3516e-07), ten...       2      m  \n",
      "1  [[[tensor(7.0271e-05), tensor(6.2840e-05), ten...       4      f  \n",
      "2  [[[tensor(8.9346e-05), tensor(5.5403e-05), ten...       4      f  \n",
      "3  [[[tensor(0.0017), tensor(0.0002), tensor(4.98...       1      m  \n",
      "4  [[[tensor(0.0008), tensor(0.0003), tensor(0.00...       1      m  \n",
      "torch.Size([1, 201, 208])\n"
     ]
    }
   ],
   "source": [
    "import os\n",
    "import torchaudio\n",
    "import pandas as pd\n",
    "import torchaudio.transforms as T # Import the transforms module\n",
    "\n",
    "def load_and_preprocess_audios_from_folder(folder_path, target_sr=16000):\n",
    "    \"\"\"\n",
    "    Load and normalize all audio files in a folder using torchaudio, extracting accent and gender from filename,\n",
    "    and transforming the waveform to a spectrogram.\n",
    "\n",
    "    Args:\n",
    "        folder_path (str): Path to folder containing .wav files\n",
    "        target_sr (int): Sampling rate\n",
    "\n",
    "    Returns:\n",
    "        pd.DataFrame: DataFrame with columns ['file_path', 'waveform' (spectrogram), 'accent', 'gender']\n",
    "    \"\"\"\n",
    "    data = []\n",
    "    # Initialize the Spectrogram transform\n",
    "    spectrogram_transform = T.Spectrogram()\n",
    "\n",
    "    for fname in os.listdir(folder_path):\n",
    "        if fname.endswith('.wav'):\n",
    "            file_path = os.path.join(folder_path, fname)\n",
    "            # Load audio\n",
    "            waveform, sr = torchaudio.load(file_path)\n",
    "            # Normalize amplitude\n",
    "            waveform = waveform / waveform.abs().max()\n",
    "            \n",
    "            # Apply STFT\n",
    "            spectrogram = spectrogram_transform(waveform)\n",
    "\n",
    "            # Extract accent and gender\n",
    "            accent = int(fname[0])  # 1-5\n",
    "            gender = fname[1]       # 'm' or 'f'\n",
    "            data.append({\n",
    "                'file_path': file_path,\n",
    "                'waveform': spectrogram, # Store the spectrogram\n",
    "                'accent': accent,\n",
    "                'gender': gender\n",
    "            })\n",
    "    return pd.DataFrame(data)\n",
    "\n",
    "df = load_and_preprocess_audios_from_folder(\"/Users/larsheijnen/DL/Train\")\n",
    "print(df.head())\n",
    "#Size first waveform\n",
    "print(df['waveform'].iloc[0].shape)"
   ]
  }
 ],
 "metadata": {
  "kernelspec": {
   "display_name": ".venv",
   "language": "python",
   "name": "python3"
  },
  "language_info": {
   "codemirror_mode": {
    "name": "ipython",
    "version": 3
   },
   "file_extension": ".py",
   "mimetype": "text/x-python",
   "name": "python",
   "nbconvert_exporter": "python",
   "pygments_lexer": "ipython3",
   "version": "3.11.11"
  }
 },
 "nbformat": 4,
 "nbformat_minor": 2
}
