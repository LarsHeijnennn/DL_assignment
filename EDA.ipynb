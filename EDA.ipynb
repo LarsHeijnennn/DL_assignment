{
 "cells": [
  {
   "cell_type": "code",
   "execution_count": null,
   "metadata": {},
   "outputs": [],
   "source": [
    "!pip install librosa matplotlib mutagen pandas torch\n",
    "\n",
    "import librosa\n",
    "import librosa.display\n",
    "import matplotlib.pyplot as plt\n",
    "import numpy as np\n",
    "import pandas as pd\n",
    "import torch\n",
    "import torch.nn as nn\n",
    "import torch.nn.functional as F\n",
    "import torch.optim as optim\n",
    "from torch.utils.data import DataLoader\n",
    "from torch.nn.utils.rnn import pad_sequence, pack_padded_sequence, pad_packed_sequence\n",
    "from sklearn.model_selection import train_test_split"
   ]
  },
  {
   "cell_type": "code",
   "execution_count": null,
   "metadata": {},
   "outputs": [],
   "source": [
    "import os\n",
    "import librosa\n",
    "\n",
    "train_folder = 'train'\n",
    "for f in os.listdir(train_folder):\n",
    "    if f.endswith('.wav'):\n",
    "        path = os.path.join(train_folder, f)\n",
    "        y, sr = librosa.load(path, sr=None)  # Load with original sample rate\n",
    "        if sr != 16000:\n",
    "            print(f\"{f} has sample rate {sr}\")\n",
    "\n",
    "# Nothings gets printed, so all files are 16000 Hz"
   ]
  },
  {
   "cell_type": "code",
   "execution_count": null,
   "metadata": {},
   "outputs": [],
   "source": [
    "import os\n",
    "import librosa\n",
    "\n",
    "train_folder = 'train'\n",
    "train_wav_files = [f for f in os.listdir(train_folder) if f.endswith('.wav')]\n",
    "print(f\"Number of .wav files in train folder: {len(train_wav_files)}\")\n",
    "\n",
    "total_duration = 0\n",
    "for f in train_wav_files:\n",
    "    y, sr = librosa.load(os.path.join(train_folder, f), sr=None)\n",
    "    duration = librosa.get_duration(y=y, sr=sr)\n",
    "    total_duration += duration\n",
    "\n",
    "avg_duration = total_duration / len(train_wav_files)\n",
    "print(f\"Average duration: {avg_duration:.2f} seconds\")\n",
    "\n",
    "speaker_ids = {filename.split('_')[0] for filename in train_wav_files}\n",
    "male_speakers = [s for s in speaker_ids if s.endswith('m')]\n",
    "female_speakers = [s for s in speaker_ids if s.endswith('f')]\n",
    "\n",
    "print(f\"Total unique speakers: {len(speaker_ids)}\")\n",
    "print(f\"Male speakers: {len(male_speakers)}\")\n",
    "print(f\"Female speakers: {len(female_speakers)}\")\n",
    "print(\"\\nMale speaker IDs:\", sorted(male_speakers))\n",
    "print(\"Female speaker IDs:\", sorted(female_speakers))\n"
   ]
  },
  {
   "cell_type": "code",
   "execution_count": null,
   "metadata": {},
   "outputs": [],
   "source": [
    "durations = []\n",
    "for f in train_wav_files:\n",
    "    y, sr = librosa.load(os.path.join(train_folder, f), sr=None)\n",
    "    duration = librosa.get_duration(y=y, sr=sr)\n",
    "    durations.append(duration)\n",
    "\n",
    "min_duration = min(durations)\n",
    "max_duration = max(durations)\n",
    "std_duration = np.std(durations)\n",
    "\n",
    "print(f\"Minimum duration: {min_duration:.2f} seconds\")\n",
    "print(f\"Maximum duration: {max_duration:.2f} seconds\")\n",
    "print(f\"Standard deviation: {std_duration:.2f} seconds\")\n",
    "\n",
    "plt.figure(figsize=(10, 4))\n",
    "plt.hist(durations, bins=30)\n",
    "plt.title('Distribution of Audio Durations')\n",
    "plt.xlabel('Duration (seconds)')\n",
    "plt.ylabel('Count')\n",
    "plt.show()\n"
   ]
  },
  {
   "cell_type": "code",
   "execution_count": null,
   "metadata": {},
   "outputs": [],
   "source": [
    "import wave  # Import the wave module for WAV file handling\n",
    "with wave.open('Test set/3599.wav', 'rb') as wav:  # Open WAV file in read-binary mode\n",
    "    print(f\"Channels: {wav.getnchannels()}\")  # Print number of audio channels\n",
    "    print(f\"Sample width: {wav.getsampwidth()}\")  # Print sample width in bytes - This shows how many bytes are used to store each audio sample (e.g., 2 bytes = 16-bit audio)\n",
    "    print(f\"Frame rate: {wav.getframerate()}\")  # Print sampling frequency\n",
    "    print(f\"Frames: {wav.getnframes()}\")  # Print total number of frames\n",
    "    print(f\"Parameters: {wav.getparams()}\")  # Print all WAV file parameters\n",
    "\n",
    "\n",
    "\n",
    "# The accent is encoded in the first character of the file name with a single number from 1 to 5. The gender is encoded as a single letter (’m’ or ’f’) corresponding to the second character of the file name.\". "
   ]
  },
  {
   "cell_type": "code",
   "execution_count": null,
   "metadata": {},
   "outputs": [],
   "source": [
    "from mutagen.wave import WAVE\n",
    "\n",
    "audio = WAVE('Test set/3599.wav')\n",
    "print(audio.tags)  # print None if there are no tags"
   ]
  },
  {
   "cell_type": "code",
   "execution_count": null,
   "metadata": {},
   "outputs": [],
   "source": [
    "# Create a list to store our dataset information\n",
    "dataset_manifest = []\n",
    "\n",
    "for file_path in train_wav_files:\n",
    "    # Extract filename without extension\n",
    "    filename = os.path.basename(file_path).split('.')[0]\n",
    "    \n",
    "    # Extract accent (first character) and convert to 0-based index\n",
    "    accent = int(filename[0]) - 1  # Convert 1-5 to 0-4\n",
    "    \n",
    "    # Extract gender (second character)\n",
    "    gender = filename[1]\n",
    "    \n",
    "    # Create dictionary with file information\n",
    "    file_info = {\n",
    "        'file_path': file_path,\n",
    "        'accent': accent,\n",
    "        'gender': gender\n",
    "    }\n",
    "    \n",
    "    dataset_manifest.append(file_info)\n",
    "\n",
    "# Convert to DataFrame for easier manipulation\n",
    "df_manifest = pd.DataFrame(dataset_manifest)\n",
    "\n",
    "# Display first few rows and basic statistics\n",
    "print(\"Dataset Manifest Preview:\")\n",
    "print(df_manifest.head())\n",
    "print(\"\\nDataset Statistics:\")\n",
    "print(f\"Total files: {len(df_manifest)}\")\n",
    "print(\"\\nAccent distribution:\")\n",
    "print(df_manifest['accent'].value_counts().sort_index())\n",
    "print(\"\\nGender distribution:\")\n",
    "print(df_manifest['gender'].value_counts())\n"
   ]
  }
 ],
 "metadata": {
  "language_info": {
   "name": "python"
  }
 },
 "nbformat": 4,
 "nbformat_minor": 2
}
