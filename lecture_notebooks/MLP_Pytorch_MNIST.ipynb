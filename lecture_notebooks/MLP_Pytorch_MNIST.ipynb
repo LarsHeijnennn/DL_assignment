{
 "cells": [
  {
   "cell_type": "markdown",
   "metadata": {},
   "source": [
    "# MLP in PyTorch on a subset of MNIST.\n",
    "In this notebook you will work on training an MLP on the MNIST dataset. Here, the module class is introducend and you will become familiar with a more flexible way of defining models in PyTorch than the sequential container.\n",
    "\n",
    "### MNIST dataset:\n",
    "The MNIST dataset is a widely used benchmark dataset in the field of machine learning, particularly in the domain of image classification. It consists of a collection of 28x28 pixel grayscale images depicting handwritten digits from 0 to 9. Originally created to train and test the performance of various machine learning algorithms, MNIST has become a standard dataset for assessing the capabilities of new models. In scikit-learn, the MNIST dataset is conveniently accessible through the fetch_openml function, where each image is flattened into a one-dimensional array of 784 elements (28x28 pixels). The associated labels represent the corresponding digit for each image, allowing for straightforward integration with various classification algorithms."
   ]
  },
  {
   "cell_type": "markdown",
   "metadata": {},
   "source": [
    "### Loading the dataset\n",
    "In the code below, the data is loaded from scikit learn and a PyTorch dataloader is created on a subset of the data containing 1000 samples.\n",
    "\n",
    "The code starts by importing necessary libraries, including PyTorch, torchvision, and matplotlib.\n",
    "The MNIST dataset is loaded and transformed into PyTorch tensors using transforms.ToTensor().\n",
    "A subset of the dataset is created to speed up training. This can be adjusted based on available computational resources.\n",
    "Finally, a DataLoader is created for the training and testing sets. This is done for efficient batch processing."
   ]
  },
  {
   "cell_type": "code",
   "execution_count": 2,
   "metadata": {},
   "outputs": [
    {
     "name": "stderr",
     "output_type": "stream",
     "text": [
      "100.0%\n",
      "100.0%\n",
      "100.0%\n",
      "100.0%\n"
     ]
    }
   ],
   "source": [
    "import torch\n",
    "from torch.utils.data import DataLoader, random_split\n",
    "from torchvision import datasets, transforms\n",
    "from sklearn.model_selection import train_test_split\n",
    "\n",
    "# Set random seed for reproducibility\n",
    "torch.manual_seed(42)\n",
    "\n",
    "# Load the Optical Recognition of Handwritten Digits dataset\n",
    "transform = transforms.Compose([transforms.ToTensor(), transforms.Normalize((0.5,), (0.5,))])\n",
    "full_dataset = datasets.MNIST(root='./data', train=True, download=True, transform=transform)\n",
    "\n",
    "# Subset the dataset for faster training (optional)\n",
    "subset_size = 15000\n",
    "subset, _ = random_split(full_dataset, [subset_size, len(full_dataset) - subset_size])\n",
    "\n",
    "# Split into train and test sets\n",
    "train_size = int(0.8 * len(subset))\n",
    "test_size = len(subset) - train_size\n",
    "train_dataset, test_dataset = random_split(subset, [train_size, test_size])\n",
    "\n",
    "# Create DataLoader for training\n",
    "train_loader = DataLoader(train_dataset, batch_size=64, shuffle=True)\n",
    "\n",
    "# Create DataLoader for testing\n",
    "test_loader = DataLoader(test_dataset, batch_size=64, shuffle=False)\n"
   ]
  },
  {
   "cell_type": "markdown",
   "metadata": {},
   "source": [
    "### Data visualization:\n",
    "Before we start working on the MLP and its training, we can visualize the data to get a better idea of the problem at hand. The code below addresses this. It a function visualize_dataset to visualize a random sample of the dataset. It then visualizes a small number of samples, displaying the handwritten digits along with their corresponding labels."
   ]
  },
  {
   "cell_type": "code",
   "execution_count": 3,
   "metadata": {},
   "outputs": [
    {
     "data": {
      "image/png": "[encoded data removed]",
      "text/plain": [
       "<Figure size 1200x300 with 5 Axes>"
      ]
     },
     "metadata": {},
     "output_type": "display_data"
    }
   ],
   "source": [
    "# Dataset Visualization\n",
    "import matplotlib.pyplot as plt\n",
    "# Function to visualize a random sample of the dataset\n",
    "def visualize_dataset(dataset, num_samples=5):\n",
    "    fig, axes = plt.subplots(1, num_samples, figsize=(12, 3))\n",
    "\n",
    "    for i in range(num_samples):\n",
    "        sample_idx = torch.randint(len(dataset), size=(1,)).item()\n",
    "        image, label = dataset[sample_idx]\n",
    "        axes[i].imshow(image.squeeze(), cmap='gray')\n",
    "        axes[i].set_title(f'Label: {label}')\n",
    "\n",
    "    plt.show()\n",
    "\n",
    "# Visualize a random sample of the dataset\n",
    "visualize_dataset(subset)\n"
   ]
  },
  {
   "cell_type": "markdown",
   "metadata": {},
   "source": [
    "## Model definition\n",
    "\n",
    "### The Module class: \n",
    "In PyTorch, the `nn.Module` class serves as a foundational building block for constructing and organizing neural network architectures. It provides a flexible and modular structure that allows users to define their custom models by subclassing `nn.Module`. The `nn.Module` class encapsulates both trainable parameters and the operations performed on input data, facilitating the design of complex and hierarchical models. Subclassing `nn.Module` requires implementing the `__init__` and `forward` methods, where the former initializes the model's components, and the latter defines the forward pass. This object-oriented approach offers a fine-grained level of control over the model's architecture, making it suitable for scenarios where more intricate designs and customization are necessary.\n",
    "\n",
    "\n",
    "### Sequential as a Subclass of nn.Module\n",
    "\n",
    "In PyTorch, `nn.Sequential` is a subclass of `nn.Module`, meaning it inherits all the functionalities of `nn.Module`, including parameter management, saving and loading models, and moving models to different devices (CPU/GPU). The key difference is that `nn.Sequential` provides an easy way to define models where the forward pass is simply a sequential execution of layers, without needing to explicitly define a `forward` method.\n",
    "\n",
    "The `torch.nn.Sequential` module allows for building neural networks in a concise and modular way. The `Sequential` container stacks layers in the order they are defined, automatically passing the output of one layer as the input to the next.\n",
    "\n",
    "\n",
    "#### Defining a Sequential Model\n",
    "\n",
    "A `Sequential` model can be created using `torch.nn.Sequential`, where layers are added in the order they should be executed:\n",
    "\n",
    "```python\n",
    "import torch\n",
    "import torch.nn as nn\n",
    "\n",
    "# Define a simple feedforward network\n",
    "model = nn.Sequential(\n",
    "    nn.Linear(10, 20),  # Fully connected layer: input size 10, output size 20\n",
    "    nn.ReLU(),          # Activation function\n",
    "    nn.Linear(20, 5),   # Fully connected layer: input size 20, output size 5\n",
    ")\n",
    "\n",
    "print(model)`\n",
    "```\n",
    "\n",
    "### More general models \n",
    "Defining models by extending the `nn.Module` class in PyTorch can provide several advantages over using the `nn.Sequential` container. One key advantage is increased flexibility in designing complex architectures that involve branching, skipping connections, or any other non-sequential patterns. With the `nn.Module` approach, one can easily create models with shared parameters, reuse submodules, and incorporate conditional logic within the forward pass. This level of flexibility is particularly beneficial when dealing with intricate architectures common in advanced tasks such as image segmentation, object detection, or natural language processing. Additionally, subclassing `nn.Module` allows for better organization and encapsulation of model components, promoting modular and maintainable code structures. Overall, leveraging the `nn.Module` class offers a powerful and extensible framework for crafting sophisticated neural network architectures in PyTorch. We will focus on extending the `nn.Module` in later notebooks.\n",
    "\n",
    "\n",
    "**Code:**\n",
    "The below code defines an MLP model using the `nn.Module` class, with one hidden layer and a ReLU activation function using the `nn.Sequential`.\n",
    "The input size is set based on the size of MNIST images (28x28 pixels), the hidden size is set to 64, and the output size corresponds to the number of classes (digits 0 to 9)."
   ]
  },
  {
   "cell_type": "code",
   "execution_count": 3,
   "metadata": {},
   "outputs": [],
   "source": [
    "# Model Definition\n",
    "\n",
    "import torch.nn as nn\n",
    "import torch.optim as optim\n",
    "\n",
    "# Define the MLP model\n",
    "class MLP(nn.Module):\n",
    "    def __init__(self, input_size, hidden_size, output_size):\n",
    "        super(MLP, self).__init__()\n",
    "        self.model = nn.Sequential(\n",
    "            nn.Linear(input_size, hidden_size),\n",
    "            nn.ReLU(),\n",
    "            nn.Linear(hidden_size, output_size)\n",
    "        )\n",
    "\n",
    "    def forward(self, x):\n",
    "        return self.model(x)\n",
    "\n",
    "\n",
    "\n"
   ]
  },
  {
   "cell_type": "markdown",
   "metadata": {},
   "source": [
    "### Training cycle\n",
    "Here, your task is to define and implement the training loop and necessary components to train the model. The training loos is to be imlemented in afunction `train_model`. The function takes as inputs the model to be trained (MLP_model) and the number of epochs (num_epochs), which determines how many times the entire dataset will be passed through the network during training. \n",
    "\n",
    "Below is a breakdown of the steps you need to take:\n",
    "\n",
    "* Initialize the Loss Function and Optimizer:\n",
    "    * Use CrossEntropyLoss as the loss function.\n",
    "    * Use Stochastic Gradient Descent (SGD) as the optimizer.\n",
    "\n",
    "* Training Loop:\n",
    "\n",
    "    * Iterate over each epoch using for epoch in range(num_epochs): Initialize total_loss to 0 for each epoch.\n",
    "\n",
    "    * Inner Loop for Batches: Iterate over batches of data from the training DataLoader (train_loader).\n",
    "\n",
    "    * For each batch, perform the following steps: \n",
    "        * Zero the gradients using optimizer.zero_grad().\n",
    "        * Flatten the input images if needed (in this case, using inputs.view(-1, 28 * 28)). \n",
    "        * Perform a forward pass through the model (outputs = model(inputs)). Compute the loss between the model predictions and the true labels (loss = criterion(outputs, labels)).\n",
    "        * Perform a backward pass to compute gradients (loss.backward()).\n",
    "        * Update the model parameters using the optimizer (optimizer.step()).\n",
    "        * Accumulate the batch loss to the total loss.\n",
    "    \n",
    "    * Print Epoch Information: After each epoch, print the average loss over all batches in that epoch."
   ]
  },
  {
   "cell_type": "code",
   "execution_count": 4,
   "metadata": {},
   "outputs": [],
   "source": [
    "# Training Cycle\n",
    "\n",
    "def train_model(MLP_model, num_epochs = 10):\n",
    "    # Define the loss function and optimizer\n",
    "    criterion = nn.CrossEntropyLoss()\n",
    "    optimizer = optim.SGD(MLP_model.parameters(), lr=0.01)\n",
    "    # Training loop\n",
    "    for epoch in range(num_epochs):\n",
    "        total_loss = 0\n",
    "\n",
    "        for inputs, labels in train_loader:\n",
    "            optimizer.zero_grad()  # Zero the gradients\n",
    "            inputs = inputs.view(-1, 28 * 28)  # Flatten the images\n",
    "            outputs = MLP_model(inputs)  # Forward pass\n",
    "            loss = criterion(outputs, labels)  # Compute the loss\n",
    "            loss.backward()  # Backward pass\n",
    "            optimizer.step()  # Update the weights\n",
    "\n",
    "            total_loss += loss.item()\n",
    "\n",
    "        print(f'Epoch [{epoch + 1}/{num_epochs}], Loss: {total_loss / len(train_loader)}')\n"
   ]
  },
  {
   "cell_type": "markdown",
   "metadata": {},
   "source": [
    "### Evaluating the Model\n",
    "After training, we need to evaluate the model's performance on the test set.\n",
    "Below, you need to implement the function `evaluate_model`.\n",
    "In this function you need to do the following:\n",
    "\n",
    "- **Set Model to Evaluation Mode:**\n",
    "  - Inside the function, set the provided MLP model (`MLP_model`) to evaluation mode using `MLP_model.eval()`.\n",
    "\n",
    "- **Perform Evaluation:**\n",
    "  - Use `torch.no_grad()` to disable gradient computation during evaluation, as gradients are not needed for this phase.\n",
    "  - Iterate through batches in the provided `test_loader`.\n",
    "  - Flatten the test images appropriately within each batch.\n",
    "  - Pass the flattened test images through the model (`MLP_model`).\n",
    "  - Use `torch.max` to obtain the predicted class for each test sample.\n",
    "  - Accumulate correct predictions and total samples over all batches.\n",
    "\n",
    "- **Print Accuracy:**\n",
    "  - Calculate the accuracy by dividing the total correct predictions by the total number of samples in the test set.\n",
    "  - Print the test accuracy to the console using `print(f'Test Accuracy: {accuracy * 100:.2f}%')`.\n"
   ]
  },
  {
   "cell_type": "code",
   "execution_count": 5,
   "metadata": {},
   "outputs": [],
   "source": [
    "def evaluate_model(MLP_model, test_loader):\n",
    "    # Model Evaluation\n",
    "\n",
    "    with torch.no_grad():\n",
    "        MLP_model.eval()  # Set the model to evaluation mode\n",
    "        total_correct = 0\n",
    "        total_samples = 0\n",
    "\n",
    "        for inputs, labels in test_loader:\n",
    "            inputs = inputs.view(-1, 28 * 28)  # Flatten the test images\n",
    "            outputs = MLP_model(inputs)\n",
    "            _, predicted = torch.max(outputs, 1)\n",
    "\n",
    "            total_correct += (predicted == labels).sum().item()\n",
    "            total_samples += labels.size(0)\n",
    "\n",
    "    accuracy = total_correct / total_samples\n",
    "    print(f'Test Accuracy: {accuracy * 100:.2f}%')\n"
   ]
  },
  {
   "cell_type": "markdown",
   "metadata": {},
   "source": [
    "### Putting all together.\n",
    "The code below initializes an MLP model, trains it on the training dataset for the given number of epochs (10 in this case) using the train_model function, and then evaluates its performance on the test dataset using the evaluate_model function. You should get a performance of around $~89.5%$."
   ]
  },
  {
   "cell_type": "code",
   "execution_count": null,
   "metadata": {},
   "outputs": [],
   "source": [
    "# Initialize the model\n",
    "input_size = 28 * 28  # MNIST images are 28x28 pixels\n",
    "hidden_size = 64\n",
    "output_size = 10  # 10 classes for digits 0 to 9\n",
    "# Create the model\n",
    "model = MLP(input_size, hidden_size, output_size)\n",
    "# Train the model\n",
    "train_model(model, num_epochs=10)\n",
    "# Evaluate the model\n",
    "evaluate_model(model, test_loader)"
   ]
  },
  {
   "cell_type": "markdown",
   "metadata": {},
   "source": [
    "## Experimenting with the MLP.\n",
    "\n",
    "Now you can start experimenting and changing the MLP architecture and see if that affects the performance of the model.\n",
    "Implement a ModifiedMLP class that addresses the following:\n",
    "* **1. Change the activation function in the hidden layers:** The constructor should recieves as input the activation function to be used in the hidden layers.\n",
    "* **2. Change the number of hidden layers and their sizes:** The constructor should recieve as input a list with the sizes of all the hidden layers in the MLP.\n",
    "\n",
    "To achieve this, it is a good idea to use the `nn.ModuleList` class.\n",
    "\n",
    "### Understanding `nn.ModuleList` in PyTorch\n",
    "\n",
    "#### What is `nn.ModuleList`?\n",
    "In PyTorch, `nn.ModuleList` is a container module that holds a list of `nn.Module` instances. It allows you to manage a sequence of modules within a PyTorch model. When you use `nn.ModuleList`, the contained modules become sub-modules of the parent module, and PyTorch can track and manage their parameters.\n",
    "\n",
    "#### How Does `nn.ModuleList` Work?\n",
    "1. **Initialization:**\n",
    "   - `nn.ModuleList` is initialized with a list of `nn.Module` instances.\n",
    "2. **Usage in the Context of our ModifiedMLP Class:**\n",
    "   - In the `ModifiedMLP` class, `nn.ModuleList` can be utilized to store the linear layers and activation functions dynamically created during initialization. Layers can be added using the append function as any list in python.\n",
    "3. **Iteration:**\n",
    "   - You can iterate over the modules within the `nn.ModuleList` during the forward pass or other operations.\n",
    "\n",
    "#### Why Use `nn.ModuleList` in This Context?\n",
    "- **Dynamic Architecture:**\n",
    "  - In our `ModifiedMLP` class, for example, the number of hidden layers and their sizes can vary based on user input.\n",
    "  - Using `nn.ModuleList` allows for dynamic creation and storage of these layers.\n",
    "\n",
    "\n",
    "#### How to Use `nn.ModuleList` in our `ModifiedMLP`:\n",
    "1. **Initialization:**\n",
    "   - `self.layers = nn.ModuleList()` initializes an empty `nn.ModuleList`.\n",
    "2. **Dynamic Creation of Layers:**\n",
    "   - Inside the loop, linear layers and activation functions are dynamically created and added to `self.layers` with the `self.layers.append()` function. A linear layer (an instance of nn.Linear) is created and added to self.layers. For the activations function, an instance of `activation_function` is created and added to the `nn.ModuleList` object.\n",
    "3. **Access and Iteration:**\n",
    "   - During the forward pass (`forward` method), layers can be accessed and iterated through using `for layer in self.layers:`."
   ]
  },
  {
   "cell_type": "code",
   "execution_count": 7,
   "metadata": {},
   "outputs": [],
   "source": [
    "import torch.nn as nn\n",
    "import torch.optim as optim\n",
    "import torch.nn.functional as F\n",
    "\n",
    "class ModifiedMLP(nn.Module):\n",
    "    def __init__(self, input_size, hidden_sizes, output_size, activation_function):\n",
    "        \"\"\"\n",
    "        Initialize the MLP model.\n",
    "\n",
    "        Parameters:\n",
    "        - input_size (int): Size of the input features.\n",
    "        - hidden_sizes (list): List containing the sizes of hidden layers.\n",
    "        - output_size (int): Size of the output layer.\n",
    "        - activation_function (torch.nn.Module): Activation function for hidden layers.\n",
    "        \"\"\"\n",
    "        super(ModifiedMLP, self).__init__()\n",
    "\n",
    "        self.input_size = input_size\n",
    "        self.hidden_sizes = hidden_sizes\n",
    "        self.output_size = output_size\n",
    "\n",
    "        # Create hidden layers and activations dynamically\n",
    "        self.layers = nn.ModuleList()\n",
    "\n",
    "        for i in range(len(hidden_sizes)):\n",
    "            # Linear layer\n",
    "            self.layers.append(nn.Linear(input_size if i == 0 else hidden_sizes[i - 1], hidden_sizes[i]))\n",
    "\n",
    "            # Activation function (except for the last layer)\n",
    "            self.layers.append(activation_function())\n",
    "\n",
    "        # Append the ouptu layer\n",
    "        self.layers.append(nn.Linear(hidden_sizes[-1], self.output_size))\n",
    "        \n",
    "\n",
    "    def forward(self, x):\n",
    "        \"\"\"\n",
    "        Forward pass of the MLP model.\n",
    "\n",
    "        Parameters:\n",
    "        - x (torch.Tensor): Input tensor.\n",
    "\n",
    "        Returns:\n",
    "        - torch.Tensor: Output tensor.\n",
    "        \"\"\"\n",
    "        # Flatten the input\n",
    "        x = x.view(-1, self.input_size)\n",
    "\n",
    "        # Forward pass through hidden layers with activation functions\n",
    "        for layer in self.layers:\n",
    "            x = layer(x)\n",
    "\n",
    "        return x\n"
   ]
  },
  {
   "cell_type": "markdown",
   "metadata": {},
   "source": [
    "Once the ModifiedMLP class is implemented we can start experimenting.\n",
    "First, let's try using the Sigmoid activation function with two hidden layers of size 64.\n",
    "Train the model and compare its performance with the model you trained above. Is there a difference? Why?"
   ]
  },
  {
   "cell_type": "code",
   "execution_count": null,
   "metadata": {},
   "outputs": [],
   "source": [
    "# Initialize the model\n",
    "input_size = 28 * 28  # MNIST images are 28x28 pixels\n",
    "output_size = 10  # 10 classes for digits 0 to 9\n",
    "activation_function = nn.Sigmoid\n",
    "hidden_sizes = [64, 64]\n",
    "# Create the model\n",
    "model = ModifiedMLP(input_size, hidden_sizes, output_size, activation_function)\n",
    "# Print the layers in the layers ModuleList object\n",
    "print(model.layers)\n",
    "# Train the model\n",
    "train_model(model, num_epochs=10)\n",
    "# Evaluate the model\n",
    "evaluate_model(model, test_loader)"
   ]
  },
  {
   "cell_type": "markdown",
   "metadata": {},
   "source": [
    "Finally, we can try changing the activation function in the hidden layer to the ReLU activation using 3 layers of size 64 and 20 epochs.\n",
    "Is the result better?"
   ]
  },
  {
   "cell_type": "code",
   "execution_count": null,
   "metadata": {},
   "outputs": [],
   "source": [
    "input_size = 28 * 28  # MNIST images are 28x28 pixels\n",
    "output_size = 10  # 10 classes for digits 0 to 9\n",
    "activation_function = nn.ReLU\n",
    "hidden_sizes = [64, 64, 64]\n",
    "model = ModifiedMLP(input_size, hidden_sizes, output_size, activation_function)\n",
    "train_model(model, num_epochs=20)\n",
    "evaluate_model(model, test_loader)"
   ]
  },
  {
   "cell_type": "markdown",
   "metadata": {},
   "source": [
    "You can experiment with more configuration and hyperparameter values (learning rate, number of layers, layer sizes, activation functions)."
   ]
  },
  {
   "cell_type": "code",
   "execution_count": null,
   "metadata": {},
   "outputs": [],
   "source": []
  }
 ],
 "metadata": {
  "kernelspec": {
   "display_name": ".venv",
   "language": "python",
   "name": "python3"
  },
  "language_info": {
   "codemirror_mode": {
    "name": "ipython",
    "version": 3
   },
   "file_extension": ".py",
   "mimetype": "text/x-python",
   "name": "python",
   "nbconvert_exporter": "python",
   "pygments_lexer": "ipython3",
   "version": "3.11.11"
  }
 },
 "nbformat": 4,
 "nbformat_minor": 2
}
